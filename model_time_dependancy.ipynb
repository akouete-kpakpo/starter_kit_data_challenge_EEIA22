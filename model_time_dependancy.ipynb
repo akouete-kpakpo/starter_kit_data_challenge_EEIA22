{
 "cells": [
  {
   "cell_type": "code",
   "execution_count": null,
   "id": "2cd88102",
   "metadata": {},
   "outputs": [],
   "source": [
    "import pandas as pd\n",
    "from prophet import Prophet\n",
    "from pathlib import Path\n",
    "from sklearn.model_selection import train_test_split\n",
    "from sklearn.metrics import mean_absolute_error"
   ]
  },
  {
   "cell_type": "code",
   "execution_count": null,
   "id": "ba62b190",
   "metadata": {},
   "outputs": [],
   "source": [
    "VERBOSE = True\n",
    "EXPORT = False"
   ]
  },
  {
   "cell_type": "code",
   "execution_count": null,
   "id": "b3c88bad",
   "metadata": {},
   "outputs": [],
   "source": [
    "current_path = Path.cwd()\n",
    "data_path = current_path / \"data\"\n",
    "if EXPORT:\n",
    "    output_path = current_path / \"outputs\"\n",
    "    output_path.mkdir(parents=True, exist_ok=True)"
   ]
  },
  {
   "cell_type": "code",
   "execution_count": null,
   "id": "72e9feaf",
   "metadata": {},
   "outputs": [],
   "source": [
    "data = pd.read_csv(data_path / \"train.csv\", parse_dates=[\"date\"], index_col=[\"date\"]).sort_index()\n",
    "test = pd.read_csv(data_path / \"test.csv\", parse_dates=[\"date\"], index_col=[\"date\"]).sort_index()"
   ]
  },
  {
   "cell_type": "code",
   "execution_count": null,
   "id": "3e5a6cb2",
   "metadata": {},
   "outputs": [],
   "source": [
    "train, validation = train_test_split(data, test_size=0.2, shuffle=True)"
   ]
  },
  {
   "cell_type": "code",
   "execution_count": null,
   "id": "8ae58596",
   "metadata": {},
   "outputs": [],
   "source": [
    "df_train = pd.DataFrame({\n",
    "    \"ds\": train.index,\n",
    "    \"y\": train[\"wp1\"]\n",
    "})\n",
    "df_validation = pd.DataFrame({\n",
    "    \"ds\": validation.index,\n",
    "    \"y\": validation[\"wp1\"]\n",
    "})\n"
   ]
  },
  {
   "cell_type": "code",
   "execution_count": null,
   "id": "a4e03fd4",
   "metadata": {},
   "outputs": [],
   "source": [
    "model = Prophet()\n",
    "model.fit(df_train)"
   ]
  },
  {
   "cell_type": "markdown",
   "id": "69e255dc",
   "metadata": {},
   "source": [
    "## Backtesting\n",
    "### Out of sample"
   ]
  },
  {
   "cell_type": "code",
   "execution_count": null,
   "id": "d8e1b7f3",
   "metadata": {},
   "outputs": [],
   "source": [
    "forecast = model.predict(df_validation)\n",
    "forecast[['ds', 'yhat', 'yhat_lower', 'yhat_upper']].tail()\n"
   ]
  },
  {
   "cell_type": "code",
   "execution_count": null,
   "id": "a74e6404",
   "metadata": {},
   "outputs": [],
   "source": [
    "fig1 = model.plot(forecast)\n"
   ]
  },
  {
   "cell_type": "code",
   "execution_count": null,
   "id": "6deee3f4",
   "metadata": {},
   "outputs": [],
   "source": [
    "print(mean_absolute_error(forecast[\"yhat\"], validation[\"wp1\"]))"
   ]
  },
  {
   "cell_type": "markdown",
   "id": "f63076aa",
   "metadata": {},
   "source": [
    "### In sample"
   ]
  },
  {
   "cell_type": "code",
   "execution_count": null,
   "id": "bf7f6c3b",
   "metadata": {},
   "outputs": [],
   "source": [
    "in_sample_prediction = model.predict(df_train)\n",
    "\n",
    "print(mean_absolute_error(in_sample_prediction[\"yhat\"], train[\"wp1\"]))"
   ]
  },
  {
   "cell_type": "code",
   "execution_count": null,
   "id": "0232a633",
   "metadata": {},
   "outputs": [],
   "source": [
    "fig = model.plot(in_sample_prediction)\n"
   ]
  },
  {
   "cell_type": "code",
   "execution_count": null,
   "id": "cd71a9f6",
   "metadata": {},
   "outputs": [],
   "source": []
  }
 ],
 "metadata": {
  "kernelspec": {
   "display_name": "Python 3 (ipykernel)",
   "language": "python",
   "name": "python3"
  },
  "language_info": {
   "codemirror_mode": {
    "name": "ipython",
    "version": 3
   },
   "file_extension": ".py",
   "mimetype": "text/x-python",
   "name": "python",
   "nbconvert_exporter": "python",
   "pygments_lexer": "ipython3",
   "version": "3.8.10"
  }
 },
 "nbformat": 4,
 "nbformat_minor": 5
}
