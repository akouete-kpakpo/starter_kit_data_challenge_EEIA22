{
 "cells": [
  {
   "cell_type": "code",
   "execution_count": null,
   "id": "f2fcd005",
   "metadata": {},
   "outputs": [],
   "source": [
    "from pathlib import Path\n",
    "import pandas as pd\n",
    "from sklearn.model_selection import train_test_split\n",
    "from sklearn.metrics import mean_absolute_error\n",
    "from sklearn.metrics import make_scorer\n",
    "from tpot import TPOTRegressor\n",
    "from tpot.config import regressor_config_dict \n",
    "from sklearn.model_selection import cross_val_score\n",
    "\n",
    "from challenge.preprocessing import build_new_features\n"
   ]
  },
  {
   "cell_type": "code",
   "execution_count": null,
   "id": "202ed1d7",
   "metadata": {},
   "outputs": [],
   "source": [
    "VERBOSE = True\n",
    "EXPORT = False"
   ]
  },
  {
   "cell_type": "code",
   "execution_count": null,
   "id": "636d741f",
   "metadata": {},
   "outputs": [],
   "source": [
    "current_path = Path.cwd()\n",
    "data_path = current_path / \"data\"\n",
    "output_path = current_path / \"outputs\"\n",
    "output_path.mkdir(parents=True, exist_ok=True)"
   ]
  },
  {
   "cell_type": "code",
   "execution_count": null,
   "id": "4d47a010",
   "metadata": {},
   "outputs": [],
   "source": [
    "data = pd.read_csv(data_path / \"train.csv\", parse_dates=[\"date\"], index_col=[\"date\"]).sort_index()\n",
    "\n",
    "test = pd.read_csv(data_path / \"test.csv\", parse_dates=[\"date\"], index_col=[\"date\"]).sort_index()"
   ]
  },
  {
   "cell_type": "code",
   "execution_count": null,
   "id": "f7b5de3d",
   "metadata": {},
   "outputs": [],
   "source": [
    "data = build_new_features(data)\n",
    "\n",
    "test = build_new_features(test)"
   ]
  },
  {
   "cell_type": "code",
   "execution_count": null,
   "id": "27ab983a",
   "metadata": {},
   "outputs": [],
   "source": [
    "train, validation = train_test_split(data, test_size=0.2, shuffle=True)"
   ]
  },
  {
   "cell_type": "code",
   "execution_count": null,
   "id": "3f16c912",
   "metadata": {},
   "outputs": [],
   "source": [
    "X_train = train.drop(\"wp1\", axis=1)\n",
    "y_train = train[\"wp1\"]\n",
    "\n",
    "X_val = validation.drop(\"wp1\", axis=1)\n",
    "y_val = validation[\"wp1\"]"
   ]
  },
  {
   "cell_type": "code",
   "execution_count": null,
   "id": "32563f12",
   "metadata": {},
   "outputs": [],
   "source": [
    "regressor_config_dict[\"lightgbm.LGBMRegressor\"] = {\n",
    "    \"boosting_type\": [\"gbdt\", \"dart\"],\n",
    "    \"min_child_samples\": [1, 5, 7, 10, 15, 20, 35, 50, 100, 200, 500, 1000],\n",
    "    \"num_leaves\": [2, 4, 7, 10, 15, 20, 25, 30, 35, 40, 50, 65, 80, 100, 125, 150, 200, 250, 500], \n",
    "    \"colsample_bytree\": [0.7, 0.9, 1.0],\n",
    "    \"subsample\": [0.7, 0.9, 1.0],\n",
    "    \"learning_rate\": [0.01, 0.05, 0.1],\n",
    "    \"n_estimators\": [5, 20, 35, 50, 75, 100, 150, 200, 350, 500, 750, 1000, 1500, 2000]\n",
    "}"
   ]
  },
  {
   "cell_type": "code",
   "execution_count": null,
   "id": "7f91e824",
   "metadata": {},
   "outputs": [],
   "source": [
    "mae_scorer = make_scorer(mean_absolute_error, greater_is_better=False)"
   ]
  },
  {
   "cell_type": "code",
   "execution_count": null,
   "id": "7cd6ba84",
   "metadata": {},
   "outputs": [],
   "source": [
    "pipeline_optimizer = TPOTRegressor(\n",
    "    generations=1,\n",
    "    population_size=5,\n",
    "    scoring=mae_scorer,\n",
    "    config_dict=regressor_config_dict,\n",
    "    verbosity=2,\n",
    "    n_jobs=-1\n",
    ")"
   ]
  },
  {
   "cell_type": "code",
   "execution_count": null,
   "id": "15382a87",
   "metadata": {},
   "outputs": [],
   "source": [
    "selected_features = [\"ws\", \"sin_wd\", \"hour\", \"day\", \"month\"]"
   ]
  },
  {
   "cell_type": "code",
   "execution_count": null,
   "id": "c0ce5714",
   "metadata": {},
   "outputs": [],
   "source": [
    "pipeline_optimizer.fit(X_train[selected_features], y_train)"
   ]
  },
  {
   "cell_type": "code",
   "execution_count": null,
   "id": "8bb38a2c",
   "metadata": {},
   "outputs": [],
   "source": [
    "pipeline_optimizer.score(X_train[selected_features], y_train)"
   ]
  },
  {
   "cell_type": "code",
   "execution_count": null,
   "id": "8fae961c",
   "metadata": {},
   "outputs": [],
   "source": [
    "pipeline_optimizer.score(X_val[selected_features], y_val)"
   ]
  },
  {
   "cell_type": "code",
   "execution_count": null,
   "id": "b030f9e6",
   "metadata": {},
   "outputs": [],
   "source": [
    "pipeline_optimizer.export('tpot_exported_pipeline.py')"
   ]
  }
 ],
 "metadata": {
  "kernelspec": {
   "display_name": "Python 3 (ipykernel)",
   "language": "python",
   "name": "python3"
  },
  "language_info": {
   "codemirror_mode": {
    "name": "ipython",
    "version": 3
   },
   "file_extension": ".py",
   "mimetype": "text/x-python",
   "name": "python",
   "nbconvert_exporter": "python",
   "pygments_lexer": "ipython3",
   "version": "3.8.10"
  }
 },
 "nbformat": 4,
 "nbformat_minor": 5
}
